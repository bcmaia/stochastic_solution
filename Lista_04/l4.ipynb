{
 "cells": [
  {
   "attachments": {},
   "cell_type": "markdown",
   "metadata": {},
   "source": [
    "## Questão 13\n",
    "\n",
    "Imagine que pessoas entram numa sala de aula \n",
    "seguindo um processo de Poisson com taxa\n",
    "$ \\lambda = 1 $\n",
    "pessoa por minuto.\n"
   ]
  },
  {
   "attachments": {},
   "cell_type": "markdown",
   "metadata": {},
   "source": [
    "### Tópico A\n",
    "Qual e o tempo esperado até que a décima pessoa entre?"
   ]
  },
  {
   "attachments": {},
   "cell_type": "markdown",
   "metadata": {},
   "source": []
  },
  {
   "attachments": {},
   "cell_type": "markdown",
   "metadata": {},
   "source": [
    "### Tópico B\n",
    "Qual é a probabilidade de que o tempo entre a entrada da décima e décima primeira pessoa seja maior do que dois minutos?"
   ]
  }
 ],
 "metadata": {
  "language_info": {
   "name": "python"
  },
  "orig_nbformat": 4
 },
 "nbformat": 4,
 "nbformat_minor": 2
}
